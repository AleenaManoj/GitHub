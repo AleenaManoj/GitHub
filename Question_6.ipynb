{
  "nbformat": 4,
  "nbformat_minor": 0,
  "metadata": {
    "colab": {
      "provenance": []
    },
    "kernelspec": {
      "name": "python3",
      "display_name": "Python 3"
    },
    "language_info": {
      "name": "python"
    }
  },
  "cells": [
    {
      "cell_type": "code",
      "execution_count": 8,
      "metadata": {
        "colab": {
          "base_uri": "https://localhost:8080/"
        },
        "id": "FUCFWqdukASm",
        "outputId": "5fcf90ca-4d3e-4d36-91bd-76cd21299f13"
      },
      "outputs": [
        {
          "output_type": "stream",
          "name": "stdout",
          "text": [
            "[1, 2, 3, 4, 5, 6, 7]\n"
          ]
        }
      ],
      "source": [
        "list = [1,2,3,4,5,6,7]\n",
        "print(list)"
      ]
    },
    {
      "cell_type": "code",
      "source": [
        "pos = int(input('Enter the position '))\n",
        "num = int(input('Enter the number 1'))"
      ],
      "metadata": {
        "colab": {
          "base_uri": "https://localhost:8080/"
        },
        "id": "LgpnXXilm2O3",
        "outputId": "5f95d5d7-d457-4f49-883f-d4e678277877"
      },
      "execution_count": 9,
      "outputs": [
        {
          "name": "stdout",
          "output_type": "stream",
          "text": [
            "Enter the position 1\n",
            "Enter the number 10\n"
          ]
        }
      ]
    },
    {
      "cell_type": "code",
      "source": [
        "list.insert(pos,num)\n",
        "print(list)"
      ],
      "metadata": {
        "colab": {
          "base_uri": "https://localhost:8080/"
        },
        "id": "IDCMOspPnAQU",
        "outputId": "e7a152c5-9727-409f-f1cc-ac0245ca5204"
      },
      "execution_count": 10,
      "outputs": [
        {
          "output_type": "stream",
          "name": "stdout",
          "text": [
            "[1, 10, 2, 3, 4, 5, 6, 7]\n"
          ]
        }
      ]
    }
  ]
}