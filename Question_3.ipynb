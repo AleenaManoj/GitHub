{
  "nbformat": 4,
  "nbformat_minor": 0,
  "metadata": {
    "colab": {
      "provenance": []
    },
    "kernelspec": {
      "name": "python3",
      "display_name": "Python 3"
    },
    "language_info": {
      "name": "python"
    }
  },
  "cells": [
    {
      "cell_type": "code",
      "source": [
        "num1 = int(input('Enter first number: '))\n",
        "num2 = int(input('Enter second number: '))"
      ],
      "metadata": {
        "colab": {
          "base_uri": "https://localhost:8080/"
        },
        "id": "Fiunw3qXI3Ui",
        "outputId": "dd2149dc-a4b1-4883-a154-91d6edd5e361"
      },
      "execution_count": 9,
      "outputs": [
        {
          "name": "stdout",
          "output_type": "stream",
          "text": [
            "Enter first number: 2\n",
            "Enter second number: 4\n"
          ]
        }
      ]
    },
    {
      "cell_type": "code",
      "source": [
        "prod = num1*num2"
      ],
      "metadata": {
        "id": "bxLf5SpEI95E"
      },
      "execution_count": 10,
      "outputs": []
    },
    {
      "cell_type": "code",
      "source": [
        "print(\"The product is:\",prod)"
      ],
      "metadata": {
        "colab": {
          "base_uri": "https://localhost:8080/"
        },
        "id": "8qXPBHVbJAwB",
        "outputId": "6ee58122-a6d8-43e1-87f0-86bfa476b71d"
      },
      "execution_count": 11,
      "outputs": [
        {
          "output_type": "stream",
          "name": "stdout",
          "text": [
            "The product is: 8\n"
          ]
        }
      ]
    }
  ]
}