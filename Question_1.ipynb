{
  "nbformat": 4,
  "nbformat_minor": 0,
  "metadata": {
    "colab": {
      "provenance": []
    },
    "kernelspec": {
      "name": "python3",
      "display_name": "Python 3"
    },
    "language_info": {
      "name": "python"
    }
  },
  "cells": [
    {
      "cell_type": "markdown",
      "source": [
        "QUESTION 1"
      ],
      "metadata": {
        "id": "murSpcl0-xRU"
      }
    },
    {
      "cell_type": "code",
      "source": [
        "name=input(\"Enter the Name: \")\n",
        "print(\"Name: \"+name)"
      ],
      "metadata": {
        "colab": {
          "base_uri": "https://localhost:8080/"
        },
        "id": "2O8TI3b9-0Pk",
        "outputId": "3e161ca8-84a1-402d-d5a9-508befd12536"
      },
      "execution_count": 6,
      "outputs": [
        {
          "output_type": "stream",
          "name": "stdout",
          "text": [
            "Enter the Name: Anisha\n",
            "Name: Anisha\n"
          ]
        }
      ]
    },
    {
      "cell_type": "code",
      "source": [
        "rollno=input(\"Enter the roll number: \")\n",
        "print(\"Roll No: \"+rollno)"
      ],
      "metadata": {
        "colab": {
          "base_uri": "https://localhost:8080/"
        },
        "id": "B7tlDLaD-I4X",
        "outputId": "11f95387-9ae9-48d3-dbd6-02a525242e13"
      },
      "execution_count": 3,
      "outputs": [
        {
          "output_type": "stream",
          "name": "stdout",
          "text": [
            "Enter the roll number: 21\n",
            "Roll No: 21\n"
          ]
        }
      ]
    },
    {
      "cell_type": "code",
      "source": [
        "mark=input(\"Enter the mark: \")\n",
        "print(\"Mark: \"+mark)"
      ],
      "metadata": {
        "colab": {
          "base_uri": "https://localhost:8080/"
        },
        "id": "LJlWBo14-dik",
        "outputId": "b1191ddf-1138-43ff-9e4b-cf02c40e93a1"
      },
      "execution_count": 5,
      "outputs": [
        {
          "output_type": "stream",
          "name": "stdout",
          "text": [
            "Enter the mark: 78\n",
            "Mark: 78\n"
          ]
        }
      ]
    }
  ]
}