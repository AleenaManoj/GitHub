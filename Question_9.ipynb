{
  "nbformat": 4,
  "nbformat_minor": 0,
  "metadata": {
    "colab": {
      "provenance": []
    },
    "kernelspec": {
      "name": "python3",
      "display_name": "Python 3"
    },
    "language_info": {
      "name": "python"
    }
  },
  "cells": [
    {
      "cell_type": "code",
      "execution_count": 2,
      "metadata": {
        "colab": {
          "base_uri": "https://localhost:8080/"
        },
        "id": "ZxkZShykW_SC",
        "outputId": "b8312d16-7027-4f65-9b2e-1e7caebe45e4"
      },
      "outputs": [
        {
          "output_type": "stream",
          "name": "stdout",
          "text": [
            "(43, 54)\n"
          ]
        }
      ],
      "source": [
        "tuple1 = (10, 20, 43, 54, 56, 68)\n",
        "tuple2 = tuple1[2:-2]\n",
        "print(tuple2)"
      ]
    }
  ]
}