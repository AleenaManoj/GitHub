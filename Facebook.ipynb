{
  "nbformat": 4,
  "nbformat_minor": 0,
  "metadata": {
    "colab": {
      "provenance": []
    },
    "kernelspec": {
      "name": "python3",
      "display_name": "Python 3"
    },
    "language_info": {
      "name": "python"
    }
  },
  "cells": [
    {
      "cell_type": "code",
      "source": [
        "# Take input for L - minimum dimension of the square\n",
        "L = int(input(\"Enter the minimum dimension of the square (L): \"))\n",
        "\n",
        "# Take input for N - number of photos\n",
        "N = int(input(\"Enter the number of photos (N): \"))\n",
        "\n",
        "# Iterate over the N photos\n",
        "for i in range(N):\n",
        "    # Take input for the dimensions of the photo\n",
        "    W, H = map(int, input(\"Enter the dimensions of photo {}: \".format(i + 1)).split())\n",
        "\n",
        "    # Check if any side is less than L\n",
        "    if W < L or H < L:\n",
        "        print(\"UPLOAD ANOTHER\")\n",
        "    # Check if the photo is already square\n",
        "    elif W == H:\n",
        "        print(\"ACCEPTED\")\n",
        "    # Prompt to crop the photo\n",
        "    else:\n",
        "        print(\"CROP IT\")"
      ],
      "metadata": {
        "id": "lTHk_mRv9czs"
      },
      "execution_count": null,
      "outputs": []
    }
  ]
}