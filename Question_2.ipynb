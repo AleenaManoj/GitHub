{
  "nbformat": 4,
  "nbformat_minor": 0,
  "metadata": {
    "colab": {
      "provenance": []
    },
    "kernelspec": {
      "name": "python3",
      "display_name": "Python 3"
    },
    "language_info": {
      "name": "python"
    }
  },
  "cells": [
    {
      "cell_type": "code",
      "execution_count": 5,
      "metadata": {
        "colab": {
          "base_uri": "https://localhost:8080/"
        },
        "id": "bUKUJSgZozS_",
        "outputId": "39f53f3d-aa45-41e4-b867-8ed7fd926d95"
      },
      "outputs": [
        {
          "name": "stdout",
          "output_type": "stream",
          "text": [
            "Temperature in Celsius: 5\n"
          ]
        }
      ],
      "source": [
        "C = int(input('Temperature in Celsius: '))"
      ]
    },
    {
      "cell_type": "code",
      "source": [
        "F = (C*9/5)+32\n",
        "print('Temperature in Fahrenheit is ',F)"
      ],
      "metadata": {
        "colab": {
          "base_uri": "https://localhost:8080/"
        },
        "id": "iBgJU4YYpBMZ",
        "outputId": "b6b10c0e-eaa4-4a11-e5de-45c49b3fde06"
      },
      "execution_count": 6,
      "outputs": [
        {
          "output_type": "stream",
          "name": "stdout",
          "text": [
            "Temperature in Fahrenheit is  41.0\n"
          ]
        }
      ]
    },
    {
      "cell_type": "code",
      "source": [
        "F = int(input('Temperature in Fahrenheit: '))"
      ],
      "metadata": {
        "colab": {
          "base_uri": "https://localhost:8080/"
        },
        "id": "FRI_DaG6pwF-",
        "outputId": "3ce31ffb-1783-4f03-c2ff-67d173177982"
      },
      "execution_count": 7,
      "outputs": [
        {
          "name": "stdout",
          "output_type": "stream",
          "text": [
            "Temperature in Fahrenheit: 41\n"
          ]
        }
      ]
    },
    {
      "cell_type": "code",
      "source": [
        "C = (F-32)*5/9\n",
        "print('Temperature in Celsius is ',C)"
      ],
      "metadata": {
        "colab": {
          "base_uri": "https://localhost:8080/"
        },
        "id": "5nIEnB5Rp0qO",
        "outputId": "fb386d8d-b884-4572-8d61-e8d954449bbe"
      },
      "execution_count": 8,
      "outputs": [
        {
          "output_type": "stream",
          "name": "stdout",
          "text": [
            "Temperature in Celsius is  5.0\n"
          ]
        }
      ]
    }
  ]
}