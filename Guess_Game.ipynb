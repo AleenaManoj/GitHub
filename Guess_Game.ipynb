{
  "nbformat": 4,
  "nbformat_minor": 0,
  "metadata": {
    "colab": {
      "provenance": []
    },
    "kernelspec": {
      "name": "python3",
      "display_name": "Python 3"
    },
    "language_info": {
      "name": "python"
    }
  },
  "cells": [
    {
      "cell_type": "code",
      "source": [
        "import random\n",
        "secretNumber = random.randint(1, 10)"
      ],
      "metadata": {
        "id": "j-FwAlMPJTvN"
      },
      "execution_count": 12,
      "outputs": []
    },
    {
      "cell_type": "code",
      "source": [
        "while True:\n",
        "  guess = int(input(\"Enter a number between 1 and 10: \"))\n",
        "  if guess == secretNumber:\n",
        "    print(\"Congratulations! You guessed the number correctly!\")\n",
        "    break\n",
        "  elif guess > secretNumber:\n",
        "    print(\"Too high! Try again.\")\n",
        "  else:\n",
        "    print(\"Too low! Try again.\")"
      ],
      "metadata": {
        "id": "Me4vv06Phls2"
      },
      "execution_count": null,
      "outputs": []
    }
  ]
}