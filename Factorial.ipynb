{
  "nbformat": 4,
  "nbformat_minor": 0,
  "metadata": {
    "colab": {
      "provenance": []
    },
    "kernelspec": {
      "name": "python3",
      "display_name": "Python 3"
    },
    "language_info": {
      "name": "python"
    }
  },
  "cells": [
    {
      "cell_type": "code",
      "execution_count": null,
      "metadata": {
        "id": "oIR0Kz9Rj5r-"
      },
      "outputs": [],
      "source": [
        "L = int(input(\"Enter the minimum dimension (L): \"))\n",
        "N = int(input(\"Enter the number of photos (N): \"))\n",
        "for i in range(N):\n",
        "    W, H = map(int, input("Enter the dimensions of photo {}: ".format(i + 1)).split())\n",
        "    if W < L or H < L:\n",
        "        print(\"UPLOAD ANOTHER\")\n",
        "    elif W == H:\n",
        "        print(\"ACCEPTED\")\n",
        "    else:\n",
        "        print(\"CROP IT\")"
      ]
    }
  ]
}
