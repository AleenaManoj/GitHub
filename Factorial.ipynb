{
  "nbformat": 4,
  "nbformat_minor": 0,
  "metadata": {
    "colab": {
      "provenance": []
    },
    "kernelspec": {
      "name": "python3",
      "display_name": "Python 3"
    },
    "language_info": {
      "name": "python"
    }
  },
  "cells": [
    {
      "cell_type": "code",
      "execution_count": null,
      "metadata": {
        "id": "h_HIb3L99_TT"
      },
      "outputs": [],
      "source": [
        "def factorial(n):\n",
        "    if n == 0 or n == 1:\n",
        "        return 1\n",
        "    else:\n",
        "        return n * factorial(n - 1)\n",
        "\n",
        "# Take user input for the number\n",
        "num = int(input(\"Enter a positive integer: \"))\n",
        "\n",
        "# Calculate the factorial\n",
        "fact = factorial(num)\n",
        "\n",
        "# Print the factorial\n",
        "print(\"The factorial of\", num, \"is\", fact)"
      ]
    }
  ]
}